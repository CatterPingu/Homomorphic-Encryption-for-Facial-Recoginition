{
  "nbformat": 4,
  "nbformat_minor": 0,
  "metadata": {
    "colab": {
      "provenance": []
    },
    "kernelspec": {
      "name": "python3",
      "display_name": "Python 3"
    },
    "language_info": {
      "name": "python"
    }
  },
  "cells": [
    {
      "cell_type": "code",
      "execution_count": null,
      "metadata": {
        "id": "HQ1i7AKkFXdc"
      },
      "outputs": [],
      "source": [
        "!pip install TenSeal\n",
        "!pip install deepface"
      ]
    },
    {
      "cell_type": "code",
      "source": [
        "import tenseal as ts\n",
        "from deepface import DeepFace"
      ],
      "metadata": {
        "id": "zqXvRXSoF4BK"
      },
      "execution_count": 2,
      "outputs": []
    },
    {
      "cell_type": "code",
      "source": [
        "import base64"
      ],
      "metadata": {
        "id": "vawkW63QMUyH"
      },
      "execution_count": 3,
      "outputs": []
    },
    {
      "cell_type": "code",
      "source": [
        "import math"
      ],
      "metadata": {
        "id": "kHCcv3_AbqHV"
      },
      "execution_count": 31,
      "outputs": []
    },
    {
      "cell_type": "markdown",
      "source": [
        "# Embeddings\n",
        "Client side"
      ],
      "metadata": {
        "id": "F8FZrcUMKTX5"
      }
    },
    {
      "cell_type": "code",
      "source": [
        "path_img1=\"/content/image1.jpg\"\n",
        "path_img2=\"/content/image2.jpg\"\n"
      ],
      "metadata": {
        "id": "22E1pvA2GyQv"
      },
      "execution_count": 4,
      "outputs": []
    },
    {
      "cell_type": "code",
      "source": [
        "img1_embed=DeepFace.represent(path_img1,model_name='Facenet')[0][\"embedding\"]\n",
        "img2_embed=DeepFace.represent(path_img2,model_name='Facenet')[0][\"embedding\"]"
      ],
      "metadata": {
        "id": "GW9In4prHDzY"
      },
      "execution_count": 5,
      "outputs": []
    },
    {
      "cell_type": "code",
      "source": [
        "len(img1_embed)"
      ],
      "metadata": {
        "colab": {
          "base_uri": "https://localhost:8080/"
        },
        "id": "8H52go6eJd-9",
        "outputId": "cf2f2dc2-5985-4bee-8d1a-ecc032e2d247"
      },
      "execution_count": 6,
      "outputs": [
        {
          "output_type": "execute_result",
          "data": {
            "text/plain": [
              "128"
            ]
          },
          "metadata": {},
          "execution_count": 6
        }
      ]
    },
    {
      "cell_type": "markdown",
      "source": [
        "# To read and write byte objects"
      ],
      "metadata": {
        "id": "odNZsYE0MEiB"
      }
    },
    {
      "cell_type": "code",
      "source": [
        "def write_data(file_name,file_content):\n",
        "  if type(file_content)==bytes:\n",
        "\n",
        "    #Bytes to b64\n",
        "\n",
        "    file_content=base64.b64encode(file_content)\n",
        "\n",
        "  with open(file_name,'wb') as f:\n",
        "    f.write(file_content)  #Will write byte object into b64\n",
        "\n",
        "def read_data(file_name):\n",
        "  with open(file_name,'rb') as f:\n",
        "    file_content=f.read()\n",
        "\n",
        "  return base64.b64decode(file_content)    #this will return bytes  "
      ],
      "metadata": {
        "id": "75HRUfAwMLzs"
      },
      "execution_count": 7,
      "outputs": []
    },
    {
      "cell_type": "markdown",
      "source": [
        "# Initialize\n",
        "\n",
        "client side because keys are generated"
      ],
      "metadata": {
        "id": "aBio5JvCKibB"
      }
    },
    {
      "cell_type": "code",
      "source": [
        "context=ts.context(ts.SCHEME_TYPE.CKKS, poly_modulus_degree=8192,coeff_mod_bit_sizes=[60,40,40,60])\n",
        "\n",
        "#CKKS because the items are real numbers\n",
        "#Context stores both public and private key"
      ],
      "metadata": {
        "id": "epDhEHnfKlY1"
      },
      "execution_count": 8,
      "outputs": []
    },
    {
      "cell_type": "code",
      "source": [
        "context.generate_galois_keys()\n",
        "context.global_scale=2**40"
      ],
      "metadata": {
        "id": "Pt9_x34hLGhZ"
      },
      "execution_count": 9,
      "outputs": []
    },
    {
      "cell_type": "code",
      "source": [
        "secret_context=context.serialize(save_secret_key=True)#Since tenseal doesn't support pickle, we will have to convert to bytes"
      ],
      "metadata": {
        "id": "NghkkRJvLeQC"
      },
      "execution_count": 10,
      "outputs": []
    },
    {
      "cell_type": "code",
      "source": [
        "type(secret_context) #see that it is now bytes"
      ],
      "metadata": {
        "colab": {
          "base_uri": "https://localhost:8080/"
        },
        "id": "BrD153KTL6c0",
        "outputId": "52ac0d97-2099-4eb3-a448-271fccb59f22"
      },
      "execution_count": 11,
      "outputs": [
        {
          "output_type": "execute_result",
          "data": {
            "text/plain": [
              "bytes"
            ]
          },
          "metadata": {},
          "execution_count": 11
        }
      ]
    },
    {
      "cell_type": "code",
      "source": [
        "write_data(file_name=\"secret.txt\",file_content=secret_context) #content of secret/private key"
      ],
      "metadata": {
        "id": "UxFphZTnL9wf"
      },
      "execution_count": 12,
      "outputs": []
    },
    {
      "cell_type": "code",
      "source": [
        "context.make_context_public()#to drop the private key else it will be leaked\n",
        "public_context=context.serialize()#not setting save secret key to true it is false by default and we don't want to save it\n",
        "write_data(file_name=\"public.txt\",file_content=public_context)"
      ],
      "metadata": {
        "id": "AR5dsACAN-hI"
      },
      "execution_count": 13,
      "outputs": []
    },
    {
      "cell_type": "code",
      "source": [
        "del context,secret_context,public_context\n",
        "\n",
        "#We require private key for encryption but since it is already dropped we will restore the context and hence deleting contexts now"
      ],
      "metadata": {
        "id": "fXI5xpEYPG-3"
      },
      "execution_count": 14,
      "outputs": []
    },
    {
      "cell_type": "markdown",
      "source": [
        "# Encryption\n",
        "\n",
        "client side; results will go to server"
      ],
      "metadata": {
        "id": "uK4dan8cPd-Z"
      }
    },
    {
      "cell_type": "code",
      "source": [
        "context = ts.context_from(read_data(\"secret.txt\"))\n",
        "type(context)"
      ],
      "metadata": {
        "colab": {
          "base_uri": "https://localhost:8080/"
        },
        "id": "JCI4AnC7POQc",
        "outputId": "b68d6a7f-c52a-48e0-deec-bc97c7f82dd5"
      },
      "execution_count": 15,
      "outputs": [
        {
          "output_type": "execute_result",
          "data": {
            "text/plain": [
              "tenseal.enc_context.Context"
            ]
          },
          "metadata": {},
          "execution_count": 15
        }
      ]
    },
    {
      "cell_type": "code",
      "source": [
        "enc_v1 = ts.ckks_vector(context, img1_embed)\n",
        "enc_v2 = ts.ckks_vector(context, img2_embed)"
      ],
      "metadata": {
        "id": "6cONGicEPyiD"
      },
      "execution_count": 16,
      "outputs": []
    },
    {
      "cell_type": "code",
      "source": [
        "write_data(file_name=\"enc_v1.txt\",file_content=enc_v1.serialize())\n",
        "write_data(file_name=\"enc_v2.txt\",file_content=enc_v2.serialize())"
      ],
      "metadata": {
        "id": "cl005x1EP-_m"
      },
      "execution_count": 17,
      "outputs": []
    },
    {
      "cell_type": "code",
      "source": [
        "del context,enc_v1,enc_v2"
      ],
      "metadata": {
        "id": "idXRCGojXNoy"
      },
      "execution_count": 18,
      "outputs": []
    },
    {
      "cell_type": "markdown",
      "source": [
        "# Calculations\n",
        "\n",
        "cloud side"
      ],
      "metadata": {
        "id": "sj0SHz_XXYzl"
      }
    },
    {
      "cell_type": "code",
      "source": [
        "context=ts.context_from(read_data(\"public.txt\"))"
      ],
      "metadata": {
        "id": "yKYqeh7nXTJr"
      },
      "execution_count": 19,
      "outputs": []
    },
    {
      "cell_type": "code",
      "source": [
        "enc_v1=ts.lazy_ckks_vector_from(read_data(file_name='enc_v1.txt'))\n",
        "enc_v2=ts.lazy_ckks_vector_from(read_data(file_name='enc_v2.txt'))"
      ],
      "metadata": {
        "id": "GkFzOjafXjxY"
      },
      "execution_count": 20,
      "outputs": []
    },
    {
      "cell_type": "code",
      "source": [
        "enc_v1.link_context(context)\n",
        "enc_v2.link_context(context)\n"
      ],
      "metadata": {
        "id": "b-oc6O-IXzWY"
      },
      "execution_count": 21,
      "outputs": []
    },
    {
      "cell_type": "code",
      "source": [
        "euclidean_squared=enc_v1-enc_v2\n",
        "euclidean_squared=euclidean_squared.dot(euclidean_squared) #performed on encrypted data"
      ],
      "metadata": {
        "id": "WHKvbXGAX792"
      },
      "execution_count": 22,
      "outputs": []
    },
    {
      "cell_type": "code",
      "source": [
        "write_data(file_name=\"euclidean_squared.txt\",file_content=euclidean_squared.serialize())"
      ],
      "metadata": {
        "id": "taqpR4HgYRQR"
      },
      "execution_count": 23,
      "outputs": []
    },
    {
      "cell_type": "code",
      "source": [
        "del context,enc_v1,enc_v2,euclidean_squared"
      ],
      "metadata": {
        "id": "kEjQ8i5KabFK"
      },
      "execution_count": 25,
      "outputs": []
    },
    {
      "cell_type": "markdown",
      "source": [
        "# Decryption"
      ],
      "metadata": {
        "id": "sBrNR6dta4aB"
      }
    },
    {
      "cell_type": "code",
      "source": [
        "context=ts.context_from(read_data(\"secret.txt\"))"
      ],
      "metadata": {
        "id": "XyXQ-mF7ai2t"
      },
      "execution_count": 28,
      "outputs": []
    },
    {
      "cell_type": "code",
      "source": [
        "euclidean_squared=ts.lazy_ckks_vector_from(read_data(file_name='euclidean_squared.txt'))\n",
        "euclidean_squared.link_context(context)"
      ],
      "metadata": {
        "id": "6uIDtHlEbI-N"
      },
      "execution_count": 29,
      "outputs": []
    },
    {
      "cell_type": "code",
      "source": [
        "euclidean_squared=math.sqrt(euclidean_squared.decrypt()[0])"
      ],
      "metadata": {
        "id": "gBGXplpabgq8"
      },
      "execution_count": 33,
      "outputs": []
    },
    {
      "cell_type": "code",
      "source": [
        "if euclidean_squared<10:\n",
        "  print(\"same person\")\n",
        "else:\n",
        "  print(\"different person\")  "
      ],
      "metadata": {
        "colab": {
          "base_uri": "https://localhost:8080/"
        },
        "id": "5pnllrnTb0rT",
        "outputId": "9eaa105a-613f-483d-d391-034d75d8f35c"
      },
      "execution_count": 34,
      "outputs": [
        {
          "output_type": "stream",
          "name": "stdout",
          "text": [
            "same person\n"
          ]
        }
      ]
    },
    {
      "cell_type": "code",
      "source": [],
      "metadata": {
        "id": "9XLUTZdbcGRY"
      },
      "execution_count": null,
      "outputs": []
    }
  ]
}